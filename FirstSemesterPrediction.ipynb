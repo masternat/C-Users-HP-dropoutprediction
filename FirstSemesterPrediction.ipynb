{
 "cells": [
  {
   "cell_type": "code",
   "execution_count": 28,
   "id": "f00b2578-5757-466a-84c9-61b5c5e777fd",
   "metadata": {
    "tags": []
   },
   "outputs": [],
   "source": [
    "import pandas as pd\n",
    "import numpy as np\n",
    "import seaborn as sns\n",
    "import matplotlib.pyplot as plt"
   ]
  },
  {
   "cell_type": "code",
   "execution_count": 29,
   "id": "c138e3c1-6166-4fe4-9464-169135569e77",
   "metadata": {
    "tags": []
   },
   "outputs": [],
   "source": [
    "studentRecord = pd.read_csv('studentRecord2.csv')"
   ]
  },
  {
   "cell_type": "code",
   "execution_count": 30,
   "id": "8c870eb6-23b6-4344-9e58-d7fa36ef2bec",
   "metadata": {
    "tags": []
   },
   "outputs": [
    {
     "data": {
      "text/html": [
       "<div>\n",
       "<style scoped>\n",
       "    .dataframe tbody tr th:only-of-type {\n",
       "        vertical-align: middle;\n",
       "    }\n",
       "\n",
       "    .dataframe tbody tr th {\n",
       "        vertical-align: top;\n",
       "    }\n",
       "\n",
       "    .dataframe thead th {\n",
       "        text-align: right;\n",
       "    }\n",
       "</style>\n",
       "<table border=\"1\" class=\"dataframe\">\n",
       "  <thead>\n",
       "    <tr style=\"text-align: right;\">\n",
       "      <th></th>\n",
       "      <th>Gender</th>\n",
       "      <th>Year</th>\n",
       "      <th>1-TCE</th>\n",
       "      <th>1-CE</th>\n",
       "      <th>1-GPA</th>\n",
       "      <th>Status</th>\n",
       "    </tr>\n",
       "  </thead>\n",
       "  <tbody>\n",
       "    <tr>\n",
       "      <th>0</th>\n",
       "      <td>M</td>\n",
       "      <td>2016</td>\n",
       "      <td>24</td>\n",
       "      <td>9</td>\n",
       "      <td>2.88</td>\n",
       "      <td>1</td>\n",
       "    </tr>\n",
       "    <tr>\n",
       "      <th>1</th>\n",
       "      <td>F</td>\n",
       "      <td>2016</td>\n",
       "      <td>24</td>\n",
       "      <td>9</td>\n",
       "      <td>2.50</td>\n",
       "      <td>0</td>\n",
       "    </tr>\n",
       "    <tr>\n",
       "      <th>2</th>\n",
       "      <td>F</td>\n",
       "      <td>2016</td>\n",
       "      <td>24</td>\n",
       "      <td>9</td>\n",
       "      <td>3.38</td>\n",
       "      <td>1</td>\n",
       "    </tr>\n",
       "    <tr>\n",
       "      <th>3</th>\n",
       "      <td>M</td>\n",
       "      <td>2016</td>\n",
       "      <td>24</td>\n",
       "      <td>9</td>\n",
       "      <td>4.00</td>\n",
       "      <td>1</td>\n",
       "    </tr>\n",
       "    <tr>\n",
       "      <th>4</th>\n",
       "      <td>M</td>\n",
       "      <td>2016</td>\n",
       "      <td>24</td>\n",
       "      <td>9</td>\n",
       "      <td>2.63</td>\n",
       "      <td>1</td>\n",
       "    </tr>\n",
       "  </tbody>\n",
       "</table>\n",
       "</div>"
      ],
      "text/plain": [
       "  Gender  Year  1-TCE  1-CE  1-GPA  Status\n",
       "0      M  2016     24     9   2.88       1\n",
       "1      F  2016     24     9   2.50       0\n",
       "2      F  2016     24     9   3.38       1\n",
       "3      M  2016     24     9   4.00       1\n",
       "4      M  2016     24     9   2.63       1"
      ]
     },
     "execution_count": 30,
     "metadata": {},
     "output_type": "execute_result"
    }
   ],
   "source": [
    "studentRecord = studentRecord[[\"Gender\",\"Year\", \"1-TCE\", \"1-CE\", \"1-GPA\",\"Status\"]]\n",
    "studentRecord.head()"
   ]
  },
  {
   "cell_type": "code",
   "execution_count": 31,
   "id": "26f4aa3c-154e-4a73-b2a2-357bf082b4ce",
   "metadata": {
    "tags": []
   },
   "outputs": [],
   "source": [
    "studentRecord['Gender'] = studentRecord['Gender'].astype('category')\n",
    "studentRecord['Gender'] = studentRecord['Gender'].cat.codes"
   ]
  },
  {
   "cell_type": "code",
   "execution_count": 32,
   "id": "5e36cdb9-c4d2-49ef-908d-0e83538083ab",
   "metadata": {
    "tags": []
   },
   "outputs": [],
   "source": [
    "studentRecord = studentRecord.drop(columns = \"Year\")"
   ]
  },
  {
   "cell_type": "code",
   "execution_count": 33,
   "id": "a2695d84-8097-4632-8891-ce5e165ed041",
   "metadata": {
    "tags": []
   },
   "outputs": [],
   "source": [
    "X = studentRecord.drop(\"Status\", axis = 1)\n",
    "y = studentRecord[\"Status\"]"
   ]
  },
  {
   "cell_type": "code",
   "execution_count": 34,
   "id": "736f9858-6e70-4b17-b361-34428f35b5d6",
   "metadata": {
    "tags": []
   },
   "outputs": [],
   "source": [
    "from sklearn.model_selection import train_test_split\n",
    "X_train, X_test, y_train, y_test = train_test_split(\n",
    "    X,y,test_size = 0.3, random_state = 10)"
   ]
  },
  {
   "cell_type": "code",
   "execution_count": 35,
   "id": "933fcc0a-4348-490e-96b8-996f48717b07",
   "metadata": {
    "tags": []
   },
   "outputs": [],
   "source": [
    "from sklearn.linear_model import LogisticRegression"
   ]
  },
  {
   "cell_type": "code",
   "execution_count": 36,
   "id": "aa0cb0bc-fd0c-4e3e-b9bf-55bf84d8999d",
   "metadata": {
    "tags": []
   },
   "outputs": [],
   "source": [
    " logreg2 = LogisticRegression(max_iter = 3000)\n",
    "logreg2 = logreg2.fit(X_train, y_train)"
   ]
  },
  {
   "cell_type": "code",
   "execution_count": 37,
   "id": "f03edf67-7cd4-46a7-8878-7afd80b1b5a8",
   "metadata": {
    "tags": []
   },
   "outputs": [
    {
     "name": "stdout",
     "output_type": "stream",
     "text": [
      "Test set score: 0.915\n"
     ]
    }
   ],
   "source": [
    "print(\"Test set score: {:.3f}\".format(logreg2.score(X_test,y_test)))"
   ]
  },
  {
   "cell_type": "code",
   "execution_count": 38,
   "id": "3b9b8ea0-1141-4429-b4a9-48a67f511105",
   "metadata": {
    "tags": []
   },
   "outputs": [
    {
     "name": "stdout",
     "output_type": "stream",
     "text": [
      "Training set score: 0.901\n"
     ]
    }
   ],
   "source": [
    "print(\"Training set score: {:.3f}\".format(logreg2.score(X_train,y_train)))"
   ]
  },
  {
   "cell_type": "code",
   "execution_count": 39,
   "id": "b7b5f1df-2f91-4407-8cc6-c8953d9a6325",
   "metadata": {
    "tags": []
   },
   "outputs": [],
   "source": [
    "prediction = logreg2.predict(X_test)"
   ]
  },
  {
   "cell_type": "code",
   "execution_count": 40,
   "id": "efca65f4-73d0-476d-8fbb-71e2cff5114d",
   "metadata": {
    "tags": []
   },
   "outputs": [],
   "source": [
    "from sklearn.metrics import classification_report, accuracy_score, confusion_matrix"
   ]
  },
  {
   "cell_type": "code",
   "execution_count": 41,
   "id": "3363e661-ff29-428b-9a2e-45bb6aa36369",
   "metadata": {
    "tags": []
   },
   "outputs": [
    {
     "name": "stdout",
     "output_type": "stream",
     "text": [
      "              precision    recall  f1-score   support\n",
      "\n",
      "           0       0.86      0.64      0.74        50\n",
      "           1       0.92      0.98      0.95       222\n",
      "\n",
      "    accuracy                           0.92       272\n",
      "   macro avg       0.89      0.81      0.84       272\n",
      "weighted avg       0.91      0.92      0.91       272\n",
      "\n"
     ]
    }
   ],
   "source": [
    "print(classification_report(y_test,prediction))"
   ]
  },
  {
   "cell_type": "code",
   "execution_count": 42,
   "id": "491b51cf-b5ac-4b13-8518-c175a3c5af1e",
   "metadata": {
    "tags": []
   },
   "outputs": [
    {
     "name": "stdout",
     "output_type": "stream",
     "text": [
      "0.9154411764705882\n"
     ]
    }
   ],
   "source": [
    "print(accuracy_score(y_test, prediction))"
   ]
  },
  {
   "cell_type": "code",
   "execution_count": 43,
   "id": "3776a6bf-5c74-46a2-bfad-140e9500f5c1",
   "metadata": {
    "tags": []
   },
   "outputs": [
    {
     "name": "stdout",
     "output_type": "stream",
     "text": [
      "0.9234042553191489\n",
      "0.9774774774774775\n"
     ]
    }
   ],
   "source": [
    "from sklearn.metrics import precision_score, recall_score\n",
    "print(precision_score(y_test,prediction))\n",
    "print(recall_score(y_test,prediction))"
   ]
  },
  {
   "cell_type": "code",
   "execution_count": 44,
   "id": "493ba6f1-efd9-4f24-a7ed-6065734be8a0",
   "metadata": {
    "tags": []
   },
   "outputs": [
    {
     "data": {
      "text/plain": [
       "array([[ 1.  , 24.  ,  9.  ,  1.88]])"
      ]
     },
     "execution_count": 44,
     "metadata": {},
     "output_type": "execute_result"
    }
   ],
   "source": [
    "X = np.array([[1,24,9,1.88]])\n",
    "X"
   ]
  },
  {
   "cell_type": "code",
   "execution_count": 45,
   "id": "4d90dd1b-c810-443c-8285-74e0210c1234",
   "metadata": {
    "tags": []
   },
   "outputs": [
    {
     "name": "stderr",
     "output_type": "stream",
     "text": [
      "C:\\anaconda\\lib\\site-packages\\sklearn\\base.py:420: UserWarning: X does not have valid feature names, but LogisticRegression was fitted with feature names\n",
      "  warnings.warn(\n"
     ]
    },
    {
     "data": {
      "text/plain": [
       "array([0], dtype=int64)"
      ]
     },
     "execution_count": 45,
     "metadata": {},
     "output_type": "execute_result"
    }
   ],
   "source": [
    "y_pred = logreg2.predict(X)\n",
    "y_pred"
   ]
  },
  {
   "cell_type": "code",
   "execution_count": 49,
   "id": "5a1812af-684f-472d-8c5c-cadf942b8e63",
   "metadata": {
    "tags": []
   },
   "outputs": [],
   "source": [
    "import pickle\n",
    "data = {\"model\": logreg2}\n",
    "with open('save3.plk','wb') as file:\n",
    "    pickle.dump(data,file)"
   ]
  },
  {
   "cell_type": "code",
   "execution_count": 50,
   "id": "2cc92752-7036-4140-9caf-8a86e138cdbc",
   "metadata": {
    "tags": []
   },
   "outputs": [],
   "source": [
    "with open('save3.plk','rb') as file:\n",
    "    data = pickle.load(file)\n",
    "\n",
    "logreg2_loaded = data[\"model\"]"
   ]
  },
  {
   "cell_type": "code",
   "execution_count": null,
   "id": "42831bc3-7dfd-47fa-9c25-47f6dc436091",
   "metadata": {},
   "outputs": [],
   "source": []
  }
 ],
 "metadata": {
  "kernelspec": {
   "display_name": "Python 3 (ipykernel)",
   "language": "python",
   "name": "python3"
  },
  "language_info": {
   "codemirror_mode": {
    "name": "ipython",
    "version": 3
   },
   "file_extension": ".py",
   "mimetype": "text/x-python",
   "name": "python",
   "nbconvert_exporter": "python",
   "pygments_lexer": "ipython3",
   "version": "3.10.9"
  }
 },
 "nbformat": 4,
 "nbformat_minor": 5
}
